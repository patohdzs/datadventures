{
 "cells": [
  {
   "cell_type": "markdown",
   "metadata": {},
   "source": [
    "# Cardiac Arrest: Assessing The Drivers of Heart Failure Fatality\n",
    "### Patricio Hernandez Senosiain \n",
    "---"
   ]
  },
  {
   "cell_type": "markdown",
   "metadata": {},
   "source": [
    "## Contents:\n",
    "\n",
    ">[1 - Introduction](#1---Introduction)\n",
    ">\n",
    ">[2 - Imports](#2---Imports)\n",
    ">\n",
    ">[3 - Data retrieval and exploratory analysis](#3---Data-retrieval-and-exploratory-analysis)\n",
    ">\n",
    ">[4 - Data cleaning and preprocessing](#4---Data-cleaning-and-preprocessing)\n",
    ">\n",
    ">[5 - Modelling](#5---Modelling)\n",
    ">\n",
    ">[6 - Conclusion](#6---Conclusion)\n",
    ">\n"
   ]
  },
  {
   "cell_type": "markdown",
   "metadata": {},
   "source": [
    "## 1 - Introduction"
   ]
  },
  {
   "cell_type": "markdown",
   "metadata": {},
   "source": [
    "\n",
    "The aim of this project will be to determine which factors increase the likelihood of a heart failure episode being fatal. To carry out this analysis we will use data collected by the Faisalabad Institute of Cardiology at the Allied Hospital in Faisalabad between April–December 2015. This data set contains information on multiple physical characteristics (eg./ age, sex, etc.), as well as whether or not the heart failure was ultimately fatal. This project carries great significance because, although heart failure is unpredictable, knowing which factors increase a patient's chances of survival can help identify at-risk individuals and shape healthy living guidelines that decrease heart-related deaths in the long run.\n"
   ]
  },
  {
   "cell_type": "markdown",
   "metadata": {},
   "source": [
    "## 2 - Imports\n"
   ]
  },
  {
   "cell_type": "code",
   "execution_count": 1,
   "metadata": {},
   "outputs": [],
   "source": [
    "\n",
    "# Pandas and Numpy; data handling\n",
    "import pandas as pd\n",
    "import numpy as np\n",
    "\n",
    "# Matplotlib and Seaborn; visualizations\n",
    "import matplotlib.pyplot as plt\n",
    "import seaborn as sns\n",
    "\n",
    "# Declaring standard Seaborn color palette; visualizations\n",
    "standard_palette = list(sns.color_palette('Paired')) + list(sns.color_palette('Set2'))\n",
    "\n",
    "#Scipy and statsmodels; statistical analysis\n",
    "from scipy.stats import levene\n",
    "from scipy.stats import ttest_ind\n",
    "\n",
    "# Scikit-learn; estimators\n",
    "from sklearn.neighbors import KNeighborsClassifier\n",
    "from sklearn.ensemble import RandomForestClassifier\n",
    "from sklearn.linear_model import LogisticRegression\n",
    "from sklearn.svm import SVC\n",
    "from sklearn.naive_bayes import BernoulliNB, GaussianNB, CategoricalNB\n",
    "\n",
    "# Scikit-learn; metrics\n",
    "from sklearn.metrics import accuracy_score\n",
    "from sklearn.metrics import classification_report\n",
    "from sklearn.metrics import roc_curve\n",
    "\n",
    "# Scikit-learn; ML pipelines\n",
    "from sklearn.pipeline import Pipeline\n",
    "from sklearn.compose import ColumnTransformer\n",
    "\n",
    "# Scikit-learn; model and feature selection\n",
    "from sklearn.model_selection import train_test_split\n",
    "from sklearn.model_selection import cross_validate\n",
    "from sklearn.model_selection import GridSearchCV\n",
    "from sklearn.model_selection import RandomizedSearchCV\n",
    "\n",
    "# Scikit-learn; preprocessing\n",
    "from sklearn.preprocessing import StandardScaler\n",
    "from sklearn.preprocessing import Normalizer\n",
    "from sklearn.preprocessing import FunctionTransformer\n",
    "\n",
    "# Statsmodels - GLM model and proportions test\n",
    "import statsmodels.api as sm\n",
    "import statsmodels.formula.api as smf\n",
    "from statsmodels.genmod.generalized_linear_model import GLM\n",
    "from statsmodels.stats.proportion import proportions_ztest\n",
    "from statsmodels import graphics\n",
    "\n",
    "# Warning disabling\n",
    "from warnings import simplefilter\n",
    "from sklearn.exceptions import ConvergenceWarning\n"
   ]
  },
  {
   "cell_type": "markdown",
   "metadata": {},
   "source": [
    "## 3 - Data retrieval and exploratory analysis \n",
    "\n",
    "\n",
    ">[3.1 - Retrieval](#3.1---Retrieval)\n",
    ">\n",
    ">[3.2 - General overview](#3.2---General-overview) - [(Notes)](#NOTES-FROM-(3.2))\n",
    ">\n",
    ">[3.3 - Distribution of target variable](#3.3---Distribution-of-target-variable) - [(Notes)](#NOTES-FROM-(3.3))\n",
    ">\n",
    ">[3.4 - Distribution of features](#3.4---Distribution-of-features) - [(Notes)](#NOTES-FROM-(3.4))\n",
    ">\n",
    ">[3.5 - Correlation amongst features](#3.5---Correlation-amongst-features) - [(Notes)](#NOTES-FROM-(3.5))\n",
    ">\n",
    ">[3.6 - Bivariate analysis of qualitative features](#3.6---Bivariate-analysis-of-qualitative-features) - [(Notes)](#NOTES-FROM-(3.6))\n",
    ">\n",
    ">[3.7 - Bivariate analysis of quantitative features](#3.7---Bivariate-analysis-of-quantitative-features) - [(Notes)](#NOTES-FROM-(3.7))\n",
    ">\n"
   ]
  },
  {
   "cell_type": "markdown",
   "metadata": {},
   "source": [
    "\n",
    "### 3.1 - Retrieval\n"
   ]
  },
  {
   "cell_type": "code",
   "execution_count": 2,
   "metadata": {},
   "outputs": [],
   "source": [
    "\n",
    "# Retreiving dataset and reading into a DataFrame object \n",
    "data = pd.read_csv('datasets_heart_failure_clinical_records_dataset.csv')\n"
   ]
  },
  {
   "cell_type": "markdown",
   "metadata": {},
   "source": [
    "\n",
    "### 3.2 - General overview\n"
   ]
  },
  {
   "cell_type": "code",
   "execution_count": 3,
   "metadata": {},
   "outputs": [
    {
     "data": {
      "text/html": [
       "<div>\n",
       "<style scoped>\n",
       "    .dataframe tbody tr th:only-of-type {\n",
       "        vertical-align: middle;\n",
       "    }\n",
       "\n",
       "    .dataframe tbody tr th {\n",
       "        vertical-align: top;\n",
       "    }\n",
       "\n",
       "    .dataframe thead th {\n",
       "        text-align: right;\n",
       "    }\n",
       "</style>\n",
       "<table border=\"1\" class=\"dataframe\">\n",
       "  <thead>\n",
       "    <tr style=\"text-align: right;\">\n",
       "      <th></th>\n",
       "      <th>age</th>\n",
       "      <th>anaemia</th>\n",
       "      <th>creatinine_phosphokinase</th>\n",
       "      <th>diabetes</th>\n",
       "      <th>ejection_fraction</th>\n",
       "      <th>high_blood_pressure</th>\n",
       "      <th>platelets</th>\n",
       "      <th>serum_creatinine</th>\n",
       "      <th>serum_sodium</th>\n",
       "      <th>sex</th>\n",
       "      <th>smoking</th>\n",
       "      <th>time</th>\n",
       "      <th>DEATH_EVENT</th>\n",
       "    </tr>\n",
       "  </thead>\n",
       "  <tbody>\n",
       "    <tr>\n",
       "      <th>0</th>\n",
       "      <td>75.0</td>\n",
       "      <td>0</td>\n",
       "      <td>582</td>\n",
       "      <td>0</td>\n",
       "      <td>20</td>\n",
       "      <td>1</td>\n",
       "      <td>265000.00</td>\n",
       "      <td>1.9</td>\n",
       "      <td>130</td>\n",
       "      <td>1</td>\n",
       "      <td>0</td>\n",
       "      <td>4</td>\n",
       "      <td>1</td>\n",
       "    </tr>\n",
       "    <tr>\n",
       "      <th>1</th>\n",
       "      <td>55.0</td>\n",
       "      <td>0</td>\n",
       "      <td>7861</td>\n",
       "      <td>0</td>\n",
       "      <td>38</td>\n",
       "      <td>0</td>\n",
       "      <td>263358.03</td>\n",
       "      <td>1.1</td>\n",
       "      <td>136</td>\n",
       "      <td>1</td>\n",
       "      <td>0</td>\n",
       "      <td>6</td>\n",
       "      <td>1</td>\n",
       "    </tr>\n",
       "    <tr>\n",
       "      <th>2</th>\n",
       "      <td>65.0</td>\n",
       "      <td>0</td>\n",
       "      <td>146</td>\n",
       "      <td>0</td>\n",
       "      <td>20</td>\n",
       "      <td>0</td>\n",
       "      <td>162000.00</td>\n",
       "      <td>1.3</td>\n",
       "      <td>129</td>\n",
       "      <td>1</td>\n",
       "      <td>1</td>\n",
       "      <td>7</td>\n",
       "      <td>1</td>\n",
       "    </tr>\n",
       "    <tr>\n",
       "      <th>3</th>\n",
       "      <td>50.0</td>\n",
       "      <td>1</td>\n",
       "      <td>111</td>\n",
       "      <td>0</td>\n",
       "      <td>20</td>\n",
       "      <td>0</td>\n",
       "      <td>210000.00</td>\n",
       "      <td>1.9</td>\n",
       "      <td>137</td>\n",
       "      <td>1</td>\n",
       "      <td>0</td>\n",
       "      <td>7</td>\n",
       "      <td>1</td>\n",
       "    </tr>\n",
       "    <tr>\n",
       "      <th>4</th>\n",
       "      <td>65.0</td>\n",
       "      <td>1</td>\n",
       "      <td>160</td>\n",
       "      <td>1</td>\n",
       "      <td>20</td>\n",
       "      <td>0</td>\n",
       "      <td>327000.00</td>\n",
       "      <td>2.7</td>\n",
       "      <td>116</td>\n",
       "      <td>0</td>\n",
       "      <td>0</td>\n",
       "      <td>8</td>\n",
       "      <td>1</td>\n",
       "    </tr>\n",
       "  </tbody>\n",
       "</table>\n",
       "</div>"
      ],
      "text/plain": [
       "    age  anaemia  creatinine_phosphokinase  diabetes  ejection_fraction  \\\n",
       "0  75.0        0                       582         0                 20   \n",
       "1  55.0        0                      7861         0                 38   \n",
       "2  65.0        0                       146         0                 20   \n",
       "3  50.0        1                       111         0                 20   \n",
       "4  65.0        1                       160         1                 20   \n",
       "\n",
       "   high_blood_pressure  platelets  serum_creatinine  serum_sodium  sex  \\\n",
       "0                    1  265000.00               1.9           130    1   \n",
       "1                    0  263358.03               1.1           136    1   \n",
       "2                    0  162000.00               1.3           129    1   \n",
       "3                    0  210000.00               1.9           137    1   \n",
       "4                    0  327000.00               2.7           116    0   \n",
       "\n",
       "   smoking  time  DEATH_EVENT  \n",
       "0        0     4            1  \n",
       "1        0     6            1  \n",
       "2        1     7            1  \n",
       "3        0     7            1  \n",
       "4        0     8            1  "
      ]
     },
     "execution_count": 3,
     "metadata": {},
     "output_type": "execute_result"
    }
   ],
   "source": [
    "\n",
    "# Inspecting first 5 records\n",
    "data.head()\n"
   ]
  },
  {
   "cell_type": "code",
   "execution_count": 4,
   "metadata": {},
   "outputs": [
    {
     "data": {
      "text/html": [
       "<div>\n",
       "<style scoped>\n",
       "    .dataframe tbody tr th:only-of-type {\n",
       "        vertical-align: middle;\n",
       "    }\n",
       "\n",
       "    .dataframe tbody tr th {\n",
       "        vertical-align: top;\n",
       "    }\n",
       "\n",
       "    .dataframe thead th {\n",
       "        text-align: right;\n",
       "    }\n",
       "</style>\n",
       "<table border=\"1\" class=\"dataframe\">\n",
       "  <thead>\n",
       "    <tr style=\"text-align: right;\">\n",
       "      <th></th>\n",
       "      <th>age</th>\n",
       "      <th>anaemia</th>\n",
       "      <th>creatinine_phosphokinase</th>\n",
       "      <th>diabetes</th>\n",
       "      <th>ejection_fraction</th>\n",
       "      <th>high_blood_pressure</th>\n",
       "      <th>platelets</th>\n",
       "      <th>serum_creatinine</th>\n",
       "      <th>serum_sodium</th>\n",
       "      <th>sex</th>\n",
       "      <th>smoking</th>\n",
       "      <th>time</th>\n",
       "      <th>DEATH_EVENT</th>\n",
       "    </tr>\n",
       "  </thead>\n",
       "  <tbody>\n",
       "    <tr>\n",
       "      <th>294</th>\n",
       "      <td>62.0</td>\n",
       "      <td>0</td>\n",
       "      <td>61</td>\n",
       "      <td>1</td>\n",
       "      <td>38</td>\n",
       "      <td>1</td>\n",
       "      <td>155000.0</td>\n",
       "      <td>1.1</td>\n",
       "      <td>143</td>\n",
       "      <td>1</td>\n",
       "      <td>1</td>\n",
       "      <td>270</td>\n",
       "      <td>0</td>\n",
       "    </tr>\n",
       "    <tr>\n",
       "      <th>295</th>\n",
       "      <td>55.0</td>\n",
       "      <td>0</td>\n",
       "      <td>1820</td>\n",
       "      <td>0</td>\n",
       "      <td>38</td>\n",
       "      <td>0</td>\n",
       "      <td>270000.0</td>\n",
       "      <td>1.2</td>\n",
       "      <td>139</td>\n",
       "      <td>0</td>\n",
       "      <td>0</td>\n",
       "      <td>271</td>\n",
       "      <td>0</td>\n",
       "    </tr>\n",
       "    <tr>\n",
       "      <th>296</th>\n",
       "      <td>45.0</td>\n",
       "      <td>0</td>\n",
       "      <td>2060</td>\n",
       "      <td>1</td>\n",
       "      <td>60</td>\n",
       "      <td>0</td>\n",
       "      <td>742000.0</td>\n",
       "      <td>0.8</td>\n",
       "      <td>138</td>\n",
       "      <td>0</td>\n",
       "      <td>0</td>\n",
       "      <td>278</td>\n",
       "      <td>0</td>\n",
       "    </tr>\n",
       "    <tr>\n",
       "      <th>297</th>\n",
       "      <td>45.0</td>\n",
       "      <td>0</td>\n",
       "      <td>2413</td>\n",
       "      <td>0</td>\n",
       "      <td>38</td>\n",
       "      <td>0</td>\n",
       "      <td>140000.0</td>\n",
       "      <td>1.4</td>\n",
       "      <td>140</td>\n",
       "      <td>1</td>\n",
       "      <td>1</td>\n",
       "      <td>280</td>\n",
       "      <td>0</td>\n",
       "    </tr>\n",
       "    <tr>\n",
       "      <th>298</th>\n",
       "      <td>50.0</td>\n",
       "      <td>0</td>\n",
       "      <td>196</td>\n",
       "      <td>0</td>\n",
       "      <td>45</td>\n",
       "      <td>0</td>\n",
       "      <td>395000.0</td>\n",
       "      <td>1.6</td>\n",
       "      <td>136</td>\n",
       "      <td>1</td>\n",
       "      <td>1</td>\n",
       "      <td>285</td>\n",
       "      <td>0</td>\n",
       "    </tr>\n",
       "  </tbody>\n",
       "</table>\n",
       "</div>"
      ],
      "text/plain": [
       "      age  anaemia  creatinine_phosphokinase  diabetes  ejection_fraction  \\\n",
       "294  62.0        0                        61         1                 38   \n",
       "295  55.0        0                      1820         0                 38   \n",
       "296  45.0        0                      2060         1                 60   \n",
       "297  45.0        0                      2413         0                 38   \n",
       "298  50.0        0                       196         0                 45   \n",
       "\n",
       "     high_blood_pressure  platelets  serum_creatinine  serum_sodium  sex  \\\n",
       "294                    1   155000.0               1.1           143    1   \n",
       "295                    0   270000.0               1.2           139    0   \n",
       "296                    0   742000.0               0.8           138    0   \n",
       "297                    0   140000.0               1.4           140    1   \n",
       "298                    0   395000.0               1.6           136    1   \n",
       "\n",
       "     smoking  time  DEATH_EVENT  \n",
       "294        1   270            0  \n",
       "295        0   271            0  \n",
       "296        0   278            0  \n",
       "297        1   280            0  \n",
       "298        1   285            0  "
      ]
     },
     "execution_count": 4,
     "metadata": {},
     "output_type": "execute_result"
    }
   ],
   "source": [
    "\n",
    "# Inspecting the last 5 records\n",
    "data.tail()\n"
   ]
  },
  {
   "cell_type": "code",
   "execution_count": 5,
   "metadata": {},
   "outputs": [
    {
     "name": "stdout",
     "output_type": "stream",
     "text": [
      "\n",
      "<class 'pandas.core.frame.DataFrame'>\n",
      "RangeIndex: 299 entries, 0 to 298\n",
      "Data columns (total 13 columns):\n",
      " #   Column                    Non-Null Count  Dtype  \n",
      "---  ------                    --------------  -----  \n",
      " 0   age                       299 non-null    float64\n",
      " 1   anaemia                   299 non-null    int64  \n",
      " 2   creatinine_phosphokinase  299 non-null    int64  \n",
      " 3   diabetes                  299 non-null    int64  \n",
      " 4   ejection_fraction         299 non-null    int64  \n",
      " 5   high_blood_pressure       299 non-null    int64  \n",
      " 6   platelets                 299 non-null    float64\n",
      " 7   serum_creatinine          299 non-null    float64\n",
      " 8   serum_sodium              299 non-null    int64  \n",
      " 9   sex                       299 non-null    int64  \n",
      " 10  smoking                   299 non-null    int64  \n",
      " 11  time                      299 non-null    int64  \n",
      " 12  DEATH_EVENT               299 non-null    int64  \n",
      "dtypes: float64(3), int64(10)\n",
      "memory usage: 30.5 KB\n",
      "\n"
     ]
    }
   ],
   "source": [
    "\n",
    "# General overveiw of the dataset\n",
    "print('')\n",
    "data.info()\n",
    "print('')\n"
   ]
  },
  {
   "cell_type": "code",
   "execution_count": 6,
   "metadata": {},
   "outputs": [
    {
     "data": {
      "text/html": [
       "<div>\n",
       "<style scoped>\n",
       "    .dataframe tbody tr th:only-of-type {\n",
       "        vertical-align: middle;\n",
       "    }\n",
       "\n",
       "    .dataframe tbody tr th {\n",
       "        vertical-align: top;\n",
       "    }\n",
       "\n",
       "    .dataframe thead th {\n",
       "        text-align: right;\n",
       "    }\n",
       "</style>\n",
       "<table border=\"1\" class=\"dataframe\">\n",
       "  <thead>\n",
       "    <tr style=\"text-align: right;\">\n",
       "      <th></th>\n",
       "      <th>age</th>\n",
       "      <th>anaemia</th>\n",
       "      <th>creatinine_phosphokinase</th>\n",
       "      <th>diabetes</th>\n",
       "      <th>ejection_fraction</th>\n",
       "      <th>high_blood_pressure</th>\n",
       "      <th>platelets</th>\n",
       "      <th>serum_creatinine</th>\n",
       "      <th>serum_sodium</th>\n",
       "      <th>sex</th>\n",
       "      <th>smoking</th>\n",
       "      <th>time</th>\n",
       "      <th>DEATH_EVENT</th>\n",
       "    </tr>\n",
       "  </thead>\n",
       "  <tbody>\n",
       "    <tr>\n",
       "      <th>count</th>\n",
       "      <td>299.000000</td>\n",
       "      <td>299.000000</td>\n",
       "      <td>299.000000</td>\n",
       "      <td>299.000000</td>\n",
       "      <td>299.000000</td>\n",
       "      <td>299.000000</td>\n",
       "      <td>299.000000</td>\n",
       "      <td>299.00000</td>\n",
       "      <td>299.000000</td>\n",
       "      <td>299.000000</td>\n",
       "      <td>299.00000</td>\n",
       "      <td>299.000000</td>\n",
       "      <td>299.00000</td>\n",
       "    </tr>\n",
       "    <tr>\n",
       "      <th>mean</th>\n",
       "      <td>60.833893</td>\n",
       "      <td>0.431438</td>\n",
       "      <td>581.839465</td>\n",
       "      <td>0.418060</td>\n",
       "      <td>38.083612</td>\n",
       "      <td>0.351171</td>\n",
       "      <td>263358.029264</td>\n",
       "      <td>1.39388</td>\n",
       "      <td>136.625418</td>\n",
       "      <td>0.648829</td>\n",
       "      <td>0.32107</td>\n",
       "      <td>130.260870</td>\n",
       "      <td>0.32107</td>\n",
       "    </tr>\n",
       "    <tr>\n",
       "      <th>std</th>\n",
       "      <td>11.894809</td>\n",
       "      <td>0.496107</td>\n",
       "      <td>970.287881</td>\n",
       "      <td>0.494067</td>\n",
       "      <td>11.834841</td>\n",
       "      <td>0.478136</td>\n",
       "      <td>97804.236869</td>\n",
       "      <td>1.03451</td>\n",
       "      <td>4.412477</td>\n",
       "      <td>0.478136</td>\n",
       "      <td>0.46767</td>\n",
       "      <td>77.614208</td>\n",
       "      <td>0.46767</td>\n",
       "    </tr>\n",
       "    <tr>\n",
       "      <th>min</th>\n",
       "      <td>40.000000</td>\n",
       "      <td>0.000000</td>\n",
       "      <td>23.000000</td>\n",
       "      <td>0.000000</td>\n",
       "      <td>14.000000</td>\n",
       "      <td>0.000000</td>\n",
       "      <td>25100.000000</td>\n",
       "      <td>0.50000</td>\n",
       "      <td>113.000000</td>\n",
       "      <td>0.000000</td>\n",
       "      <td>0.00000</td>\n",
       "      <td>4.000000</td>\n",
       "      <td>0.00000</td>\n",
       "    </tr>\n",
       "    <tr>\n",
       "      <th>25%</th>\n",
       "      <td>51.000000</td>\n",
       "      <td>0.000000</td>\n",
       "      <td>116.500000</td>\n",
       "      <td>0.000000</td>\n",
       "      <td>30.000000</td>\n",
       "      <td>0.000000</td>\n",
       "      <td>212500.000000</td>\n",
       "      <td>0.90000</td>\n",
       "      <td>134.000000</td>\n",
       "      <td>0.000000</td>\n",
       "      <td>0.00000</td>\n",
       "      <td>73.000000</td>\n",
       "      <td>0.00000</td>\n",
       "    </tr>\n",
       "    <tr>\n",
       "      <th>50%</th>\n",
       "      <td>60.000000</td>\n",
       "      <td>0.000000</td>\n",
       "      <td>250.000000</td>\n",
       "      <td>0.000000</td>\n",
       "      <td>38.000000</td>\n",
       "      <td>0.000000</td>\n",
       "      <td>262000.000000</td>\n",
       "      <td>1.10000</td>\n",
       "      <td>137.000000</td>\n",
       "      <td>1.000000</td>\n",
       "      <td>0.00000</td>\n",
       "      <td>115.000000</td>\n",
       "      <td>0.00000</td>\n",
       "    </tr>\n",
       "    <tr>\n",
       "      <th>75%</th>\n",
       "      <td>70.000000</td>\n",
       "      <td>1.000000</td>\n",
       "      <td>582.000000</td>\n",
       "      <td>1.000000</td>\n",
       "      <td>45.000000</td>\n",
       "      <td>1.000000</td>\n",
       "      <td>303500.000000</td>\n",
       "      <td>1.40000</td>\n",
       "      <td>140.000000</td>\n",
       "      <td>1.000000</td>\n",
       "      <td>1.00000</td>\n",
       "      <td>203.000000</td>\n",
       "      <td>1.00000</td>\n",
       "    </tr>\n",
       "    <tr>\n",
       "      <th>max</th>\n",
       "      <td>95.000000</td>\n",
       "      <td>1.000000</td>\n",
       "      <td>7861.000000</td>\n",
       "      <td>1.000000</td>\n",
       "      <td>80.000000</td>\n",
       "      <td>1.000000</td>\n",
       "      <td>850000.000000</td>\n",
       "      <td>9.40000</td>\n",
       "      <td>148.000000</td>\n",
       "      <td>1.000000</td>\n",
       "      <td>1.00000</td>\n",
       "      <td>285.000000</td>\n",
       "      <td>1.00000</td>\n",
       "    </tr>\n",
       "  </tbody>\n",
       "</table>\n",
       "</div>"
      ],
      "text/plain": [
       "              age     anaemia  creatinine_phosphokinase    diabetes  \\\n",
       "count  299.000000  299.000000                299.000000  299.000000   \n",
       "mean    60.833893    0.431438                581.839465    0.418060   \n",
       "std     11.894809    0.496107                970.287881    0.494067   \n",
       "min     40.000000    0.000000                 23.000000    0.000000   \n",
       "25%     51.000000    0.000000                116.500000    0.000000   \n",
       "50%     60.000000    0.000000                250.000000    0.000000   \n",
       "75%     70.000000    1.000000                582.000000    1.000000   \n",
       "max     95.000000    1.000000               7861.000000    1.000000   \n",
       "\n",
       "       ejection_fraction  high_blood_pressure      platelets  \\\n",
       "count         299.000000           299.000000     299.000000   \n",
       "mean           38.083612             0.351171  263358.029264   \n",
       "std            11.834841             0.478136   97804.236869   \n",
       "min            14.000000             0.000000   25100.000000   \n",
       "25%            30.000000             0.000000  212500.000000   \n",
       "50%            38.000000             0.000000  262000.000000   \n",
       "75%            45.000000             1.000000  303500.000000   \n",
       "max            80.000000             1.000000  850000.000000   \n",
       "\n",
       "       serum_creatinine  serum_sodium         sex    smoking        time  \\\n",
       "count         299.00000    299.000000  299.000000  299.00000  299.000000   \n",
       "mean            1.39388    136.625418    0.648829    0.32107  130.260870   \n",
       "std             1.03451      4.412477    0.478136    0.46767   77.614208   \n",
       "min             0.50000    113.000000    0.000000    0.00000    4.000000   \n",
       "25%             0.90000    134.000000    0.000000    0.00000   73.000000   \n",
       "50%             1.10000    137.000000    1.000000    0.00000  115.000000   \n",
       "75%             1.40000    140.000000    1.000000    1.00000  203.000000   \n",
       "max             9.40000    148.000000    1.000000    1.00000  285.000000   \n",
       "\n",
       "       DEATH_EVENT  \n",
       "count    299.00000  \n",
       "mean       0.32107  \n",
       "std        0.46767  \n",
       "min        0.00000  \n",
       "25%        0.00000  \n",
       "50%        0.00000  \n",
       "75%        1.00000  \n",
       "max        1.00000  "
      ]
     },
     "execution_count": 6,
     "metadata": {},
     "output_type": "execute_result"
    }
   ],
   "source": [
    "\n",
    "# Summary statistics of dataset variables\n",
    "data.describe()\n"
   ]
  },
  {
   "cell_type": "markdown",
   "metadata": {},
   "source": [
    "After inspecting the tables above, we can classify the variables in the data set according to their statistical data type:\n",
    "\n",
    "**Qualitative:**\n",
    "* `anaemia`\n",
    "* `diabetes`\n",
    "* `high_blood_pressure`\n",
    "* `sex`\n",
    "* `smoking`\n",
    "* `DEATH_EVENT`\n",
    "\n",
    "**Quantitative:**\n",
    "* `age`\n",
    "* `creatinine_phosphokinase`\n",
    "* `ejection_fraction`\n",
    "* `platelets`\n",
    "* `serum_creatinine`\n",
    "* `serum_sodium`\n",
    "* `time`\n"
   ]
  },
  {
   "cell_type": "markdown",
   "metadata": {},
   "source": [
    "\n",
    "#### **NOTES FROM (3.2)**\n",
    "\n",
    "\n",
    "* 13 columns: 12 features and the target variable (DEATH_EVENT)\n",
    "\n",
    "* 299 records\n",
    "\n",
    "* All variables correspond to numerical data types (Float64 and Int64)\n",
    "\n",
    "* No variables appear to contain missing values (labeled as NaN, null, -1, '-' or any other convention)\n",
    "\n",
    "* 6 qualitative variables and 7 quantitative ones\n",
    "\n",
    "* All qualitative variables appear to be binary\n",
    "\n",
    "* All qualitative variables are already encoded\n",
    "\n"
   ]
  },
  {
   "cell_type": "markdown",
   "metadata": {},
   "source": [
    "\n",
    "### 3.3 - Distribution of target variable\n"
   ]
  },
  {
   "cell_type": "code",
   "execution_count": 7,
   "metadata": {},
   "outputs": [
    {
     "data": {
      "image/png": "[encoded data removed]",
      "text/plain": [
       "<Figure size 432x360 with 1 Axes>"
      ]
     },
     "metadata": {
      "needs_background": "light"
     },
     "output_type": "display_data"
    },
    {
     "name": "stdout",
     "output_type": "stream",
     "text": [
      "Number of fatal heart failures: 96\n",
      "Number of non-fatal heart failures: 203\n"
     ]
    }
   ],
   "source": [
    "\n",
    "# Separating target variable\n",
    "target = data['DEATH_EVENT']\n",
    "\n",
    "# Plotting distribution of values for target variable\n",
    "plt.figure(figsize=(6,5))\n",
    "sns.countplot(data = data, \n",
    "              x = 'DEATH_EVENT', \n",
    "              palette=[standard_palette[0], \n",
    "                       standard_palette[1]])\n",
    "plt.title('Distribution of DEATH_EVENT', size=14)\n",
    "plt.ylabel('Frequency')\n",
    "plt.show()\n",
    "\n",
    "deaths = target.sum()\n",
    "print('Number of fatal heart failures: ' +str(deaths))\n",
    "print('Number of non-fatal heart failures: ' +str(299-deaths))\n"
   ]
  },
  {
   "cell_type": "markdown",
   "metadata": {},
   "source": [
    "\n",
    "#### **NOTES FROM (3.3)**\n",
    "\n",
    "* Target variable is qualitative and binary, making its prediction a classification problem\n",
    "\n",
    "* Death occurences have nearly a 2:1 ratio (no_death:death)\n",
    "\n",
    "* Class imbalance is unlikely to be a problem \n",
    "\n"
   ]
  },
  {
   "cell_type": "markdown",
   "metadata": {},
   "source": [
    "\n",
    "### 3.4 - Distribution of features\n"
   ]
  },
  {
   "cell_type": "code",
   "execution_count": 8,
   "metadata": {},
   "outputs": [
    {
     "data": {
      "image/png": "[encoded data removed]",
      "text/plain": [
       "<Figure size 720x2160 with 5 Axes>"
      ]
     },
     "metadata": {
      "needs_background": "light"
     },
     "output_type": "display_data"
    }
   ],
   "source": [
    "\n",
    "# Separating quantitative and qualitative features\n",
    "\n",
    "qual_feats = data[['anaemia', 'diabetes', \n",
    "                   'high_blood_pressure','sex','smoking']]\n",
    "\n",
    "quant_feats = data.drop(columns=qual_feats.columns)\n",
    "quant_feats = quant_feats.drop(columns='DEATH_EVENT')\n",
    "\n",
    "# Plotting distribution of qualitative features\n",
    "\n",
    "fig = plt.figure(figsize=(10,30))\n",
    "\n",
    "for i, feat in enumerate(qual_feats.columns):\n",
    "    fig.add_subplot(11,3,i+1)\n",
    "    sns.countplot(x=qual_feats[feat], \n",
    "                  palette=[standard_palette[2*i],\n",
    "                           standard_palette[2*i+1]])\n",
    "    plt.xticks(rotation=90)\n",
    "    plt.ylabel('Frequency')\n",
    "\n",
    "plt.tight_layout()\n",
    "plt.show()\n"
   ]
  },
  {
   "cell_type": "code",
   "execution_count": 9,
   "metadata": {},
   "outputs": [
    {
     "data": {
      "image/png": "[encoded data removed]",
      "text/plain": [
       "<Figure size 1440x2592 with 7 Axes>"
      ]
     },
     "metadata": {
      "needs_background": "light"
     },
     "output_type": "display_data"
    }
   ],
   "source": [
    "\n",
    "# Plotting distribution of quantitative variables\n",
    "fig = plt.figure(figsize=(20,36))\n",
    "\n",
    "for i, feat in enumerate(quant_feats.columns):    \n",
    "    fig.add_subplot(11,4,i+1)\n",
    "    sns.kdeplot(quant_feats[feat],\n",
    "                color=standard_palette[2*i+1], \n",
    "                fill=True, \n",
    "                bw_adjust=0.2)\n",
    "    \n",
    "plt.tight_layout()\n",
    "plt.show()\n"
   ]
  },
  {
   "cell_type": "markdown",
   "metadata": {},
   "source": [
    "\n",
    "#### **NOTES FROM (3.4)**\n",
    "\n",
    "\n",
    "* For qualitative features, data appears to have sufficiently large sample sizes (>30 observations) for all categories \n",
    "\n",
    "* The following features appear to have significantly skewed distributions: `serum_creatinine`, `platelets`, and `creatinine_phosphokinase` \n",
    "\n"
   ]
  },
  {
   "cell_type": "markdown",
   "metadata": {},
   "source": [
    "\n",
    "### 3.6 - Higher-order moments\n"
   ]
  },
  {
   "cell_type": "code",
   "execution_count": 10,
   "metadata": {},
   "outputs": [
    {
     "name": "stdout",
     "output_type": "stream",
     "text": [
      "age skewness: 0.423\n",
      "age skewness: -0.185\n",
      "\n",
      "ln(1+age) skewness: -0.010\n",
      "ln(1+age) skewness: -0.545\n",
      "---------------\n",
      "anaemia skewness: 0.278\n",
      "anaemia skewness: -1.936\n",
      "\n",
      "ln(1+anaemia) skewness: 0.278\n",
      "ln(1+anaemia) skewness: -1.936\n",
      "---------------\n",
      "creatinine_phosphokinase skewness: 4.463\n",
      "creatinine_phosphokinase skewness: 25.149\n",
      "\n",
      "ln(1+creatinine_phosphokinase) skewness: 0.423\n",
      "ln(1+creatinine_phosphokinase) skewness: -0.326\n",
      "---------------\n",
      "diabetes skewness: 0.334\n",
      "diabetes skewness: -1.901\n",
      "\n",
      "ln(1+diabetes) skewness: 0.334\n",
      "ln(1+diabetes) skewness: -1.901\n",
      "---------------\n",
      "ejection_fraction skewness: 0.555\n",
      "ejection_fraction skewness: 0.041\n",
      "\n",
      "ln(1+ejection_fraction) skewness: -0.246\n",
      "ln(1+ejection_fraction) skewness: -0.083\n",
      "---------------\n",
      "high_blood_pressure skewness: 0.627\n",
      "high_blood_pressure skewness: -1.618\n",
      "\n",
      "ln(1+high_blood_pressure) skewness: 0.627\n",
      "ln(1+high_blood_pressure) skewness: -1.618\n",
      "---------------\n",
      "platelets skewness: 1.462\n",
      "platelets skewness: 6.209\n",
      "\n",
      "ln(1+platelets) skewness: -1.285\n",
      "ln(1+platelets) skewness: 5.436\n",
      "---------------\n",
      "serum_creatinine skewness: 4.456\n",
      "serum_creatinine skewness: 25.828\n",
      "\n",
      "ln(1+serum_creatinine) skewness: 2.313\n",
      "ln(1+serum_creatinine) skewness: 7.212\n",
      "---------------\n",
      "serum_sodium skewness: -1.048\n",
      "serum_sodium skewness: 4.120\n",
      "\n",
      "ln(1+serum_sodium) skewness: -1.310\n",
      "ln(1+serum_sodium) skewness: 5.430\n",
      "---------------\n",
      "sex skewness: -0.627\n",
      "sex skewness: -1.618\n",
      "\n",
      "ln(1+sex) skewness: -0.627\n",
      "ln(1+sex) skewness: -1.618\n",
      "---------------\n",
      "smoking skewness: 0.770\n",
      "smoking skewness: -1.416\n",
      "\n",
      "ln(1+smoking) skewness: 0.770\n",
      "ln(1+smoking) skewness: -1.416\n",
      "---------------\n",
      "time skewness: 0.128\n",
      "time skewness: -1.212\n",
      "\n",
      "ln(1+time) skewness: -1.180\n",
      "ln(1+time) skewness: 0.847\n",
      "---------------\n",
      "DEATH_EVENT skewness: 0.770\n",
      "DEATH_EVENT skewness: -1.416\n",
      "\n",
      "ln(1+DEATH_EVENT) skewness: 0.770\n",
      "ln(1+DEATH_EVENT) skewness: -1.416\n",
      "---------------\n"
     ]
    }
   ],
   "source": [
    "# Computing higher-order moments for features\n",
    "# (including transforrmed versions)\n",
    "\n",
    "for feat in data.columns:\n",
    "    print('{} skewness: {:.3f}'.format(feat, data[feat].skew()))\n",
    "    print('{} skewness: {:.3f}'.format(feat, data[feat].kurt()))\n",
    "    print('')\n",
    "    print('ln(1+{}) skewness: {:.3f}'.format(feat, np.log1p(data[feat]).skew()))\n",
    "    print('ln(1+{}) skewness: {:.3f}'.format(feat, np.log1p(data[feat]).kurt()))\n",
    "    print('-'*15)\n",
    "    \n"
   ]
  },
  {
   "cell_type": "markdown",
   "metadata": {},
   "source": [
    "\n",
    "### 3.5 - Correlation amongst features\n"
   ]
  },
  {
   "cell_type": "code",
   "execution_count": 11,
   "metadata": {},
   "outputs": [
    {
     "data": {
      "image/png": "[encoded data removed]",
      "text/plain": [
       "<Figure size 720x576 with 2 Axes>"
      ]
     },
     "metadata": {
      "needs_background": "light"
     },
     "output_type": "display_data"
    }
   ],
   "source": [
    "\n",
    "# Calculating correlation matrix of numerical features\n",
    "feats = data.drop(columns='DEATH_EVENT')\n",
    "correlations = feats.corr()\n",
    "\n",
    "f, ax = plt.subplots(figsize=(10,8))\n",
    "plt.title('Correlation of features', size=16)\n",
    "sns.heatmap(correlations, cmap=\"Spectral\", linewidths=0.5)\n",
    "plt.show()\n"
   ]
  },
  {
   "cell_type": "code",
   "execution_count": 12,
   "metadata": {},
   "outputs": [
    {
     "name": "stdout",
     "output_type": "stream",
     "text": [
      "Correlation of features with target variable:\n",
      "\n"
     ]
    },
    {
     "data": {
      "text/plain": [
       "serum_creatinine            0.294278\n",
       "age                         0.253729\n",
       "high_blood_pressure         0.079351\n",
       "anaemia                     0.066270\n",
       "creatinine_phosphokinase    0.062728\n",
       "diabetes                   -0.001943\n",
       "sex                        -0.004316\n",
       "smoking                    -0.012623\n",
       "platelets                  -0.049139\n",
       "serum_sodium               -0.195204\n",
       "ejection_fraction          -0.268603\n",
       "time                       -0.526964\n",
       "dtype: float64"
      ]
     },
     "execution_count": 12,
     "metadata": {},
     "output_type": "execute_result"
    }
   ],
   "source": [
    "# Examining correlation of features with target variable\n",
    "target_corr = feats.corrwith(data['DEATH_EVENT'])\n",
    "target_corr = target_corr.sort_values(ascending=False)\n",
    "\n",
    "print('Correlation of features with target variable:')\n",
    "print('')\n",
    "\n",
    "target_corr"
   ]
  },
  {
   "cell_type": "markdown",
   "metadata": {},
   "source": [
    "\n",
    "#### **NOTES FROM (3.5)**\n",
    "\n",
    "\n",
    "* No features appear to be strongly correlated; multicolinearity should not be a problem.\n",
    "\n",
    "* Features with strongest positive correlations to target variable: `serum_creatinine`,`age`,`high_blood_pressure`\n",
    "\n",
    "* Features with strongest negative correlations to target variable: `time`,`ejection_fraction`,`serum_sodium `\n",
    "\n"
   ]
  },
  {
   "cell_type": "markdown",
   "metadata": {},
   "source": [
    "\n",
    "### 3.6 - Bivariate analysis of qualitative features\n"
   ]
  },
  {
   "cell_type": "code",
   "execution_count": 13,
   "metadata": {},
   "outputs": [
    {
     "data": {
      "image/png": "[encoded data removed]",
      "text/plain": [
       "<Figure size 720x2160 with 5 Axes>"
      ]
     },
     "metadata": {
      "needs_background": "light"
     },
     "output_type": "display_data"
    }
   ],
   "source": [
    "\n",
    "# Plotting proportion of DEATH_EVENT outcomes grouped by qualitative variables\n",
    "fig = plt.figure(figsize=(10,30))\n",
    "\n",
    "for i, feat in enumerate(qual_feats.columns): \n",
    "    pct2 = (data.groupby([feat,'DEATH_EVENT']).size() / data.groupby([feat]).size()).reset_index().rename({0:'percent'}, axis=1)\n",
    "    fig.add_subplot(11,3,i+1)\n",
    "    sns.barplot(data=pct2, \n",
    "                x=feat, \n",
    "                y='percent',\n",
    "                hue='DEATH_EVENT', \n",
    "                palette=[standard_palette[2*i], \n",
    "                         standard_palette[2*i+1]])\n",
    "\n",
    "    \n",
    "plt.tight_layout()\n",
    "plt.show()\n"
   ]
  },
  {
   "cell_type": "markdown",
   "metadata": {},
   "source": [
    "\n",
    "As seen above, there is an evident, amid slight, increase in the fatality rate for patients with anaemia and high blood pressure. Below we test for statistical significance in the difference in fatality rates for all categorical variables, taking the variable `DEATH_EVENT` to be Bernoulli distributed.\n",
    "\n",
    "**Details of the test:**\n",
    "\n",
    "For all qualitative features $X$:\n",
    "\n",
    "$H_0: \\Pr(DeathEvent=1 \\mid X=0) = \\Pr(DeathEvent=1 \\mid X=1)$\n",
    "\n",
    "$H_1: \\Pr(DeathEvent=1 \\mid X=0) < \\Pr(DeathEvent=1 \\mid X=1)$\n"
   ]
  },
  {
   "cell_type": "code",
   "execution_count": 14,
   "metadata": {},
   "outputs": [
    {
     "name": "stdout",
     "output_type": "stream",
     "text": [
      "Hypothesis test for anaemia:\n",
      "-----------------------\n",
      "z_stat: -1.146 p_value: 0.252\n",
      "\n",
      "\n",
      "Hypothesis test for diabetes:\n",
      "-----------------------\n",
      "z_stat: 0.034 p_value: 0.973\n",
      "\n",
      "\n",
      "Hypothesis test for high_blood_pressure:\n",
      "-----------------------\n",
      "z_stat: -1.372 p_value: 0.170\n",
      "\n",
      "\n",
      "Hypothesis test for sex:\n",
      "-----------------------\n",
      "z_stat: 0.075 p_value: 0.941\n",
      "\n",
      "\n",
      "Hypothesis test for smoking:\n",
      "-----------------------\n",
      "z_stat: 0.218 p_value: 0.827\n",
      "\n",
      "\n"
     ]
    }
   ],
   "source": [
    "\n",
    "# Applying difference of proportions (Z-test) of statistical significance\n",
    "for var in qual_feats.columns:\n",
    "    \n",
    "    var_name = var\n",
    "    print('Hypothesis test for {}:'.format(var_name))\n",
    "    print('-----------------------')\n",
    "    \n",
    "    freq = (data.groupby([var_name,'DEATH_EVENT']).size()).reset_index()\n",
    "    \n",
    "    # We define arrays for events A(categorical_var=0) and B(categorical_var=1)\n",
    "    # For each event we define two arrays: one for the frequency of success, the other for sample size\n",
    "    \n",
    "    sample_success_a, sample_size_a = (freq.iloc[1, 2], freq.iloc[1, 2] + freq.iloc[0, 2])\n",
    "    sample_success_b, sample_size_b = (freq.iloc[3, 2], freq.iloc[3, 2]+freq.iloc[2, 2])\n",
    "    \n",
    "    successes = np.array([sample_success_a, sample_success_b])\n",
    "    samples = np.array([sample_size_a, sample_size_b])\n",
    "    \n",
    "    # Hypothesis test carried out, with default H0: P(A) - P(B) = 0\n",
    "    \n",
    "    stat, p_value = proportions_ztest(count=successes, nobs=samples)\n",
    "    \n",
    "    # Reporting hypothesis test results\n",
    "    print('z_stat: %0.3f p_value: %0.3f' % (stat, p_value))\n",
    "    print('')\n",
    "    print('')\n"
   ]
  },
  {
   "cell_type": "markdown",
   "metadata": {},
   "source": [
    "\n",
    "#### **NOTES FROM (3.6)**\n",
    "\n",
    "\n",
    "* No qualitative features have statistically significant associations with heart failure fatality rate\n",
    "\n"
   ]
  },
  {
   "cell_type": "markdown",
   "metadata": {},
   "source": [
    "\n",
    "### 3.7 - Bivariate analysis of quantitative features\n"
   ]
  },
  {
   "cell_type": "code",
   "execution_count": 15,
   "metadata": {},
   "outputs": [
    {
     "data": {
      "image/png": "[encoded data removed]",
      "text/plain": [
       "<Figure size 1008x2160 with 7 Axes>"
      ]
     },
     "metadata": {
      "needs_background": "light"
     },
     "output_type": "display_data"
    }
   ],
   "source": [
    "\n",
    "# Plotting bar chart for quantitative features means grouped by DEATH_EVENT outcome\n",
    "fig = plt.figure(figsize=(14,30))\n",
    "\n",
    "for i, feat in enumerate(quant_feats.columns):\n",
    "    fig.add_subplot(11, 4, i+1)\n",
    "    sns.barplot(x=target,\n",
    "                y=quant_feats[feat],\n",
    "                data=data, orient='v', \n",
    "                capsize=0.2,\n",
    "                palette=[standard_palette[2*i], \n",
    "                         standard_palette[2*i+1]])\n",
    "\n",
    "    \n",
    "plt.tight_layout()\n",
    "plt.show()\n"
   ]
  },
  {
   "cell_type": "markdown",
   "metadata": {},
   "source": [
    "\n",
    "After analysing the quantitative feature means (grouped by `DEATH_EVENT` outcome), we find there is a visually evident difference for nearly all variables. To expand our analysis, we produce boxplots for these features to gain a better perspective on changes to the distribution as whole after grouping.\n"
   ]
  },
  {
   "cell_type": "code",
   "execution_count": 16,
   "metadata": {},
   "outputs": [
    {
     "data": {
      "image/png": "[encoded data removed]",
      "text/plain": [
       "<Figure size 1080x1800 with 7 Axes>"
      ]
     },
     "metadata": {
      "needs_background": "light"
     },
     "output_type": "display_data"
    }
   ],
   "source": [
    "\n",
    "# Plotting boxplots of quantitative features grouped by DEATH_EVENT outcome\n",
    "fig = plt.figure(figsize=(15,25))\n",
    "\n",
    "for i, feat in enumerate(quant_feats.columns):\n",
    "    fig.add_subplot(9, 3, i+1)\n",
    "    sns.boxplot(x=quant_feats[feat], \n",
    "                y=target, \n",
    "                orient='h', \n",
    "                palette=[standard_palette[2*i], \n",
    "                         standard_palette[2*i+1]])\n",
    "    \n",
    "plt.tight_layout()\n",
    "plt.show()\n"
   ]
  },
  {
   "cell_type": "markdown",
   "metadata": {},
   "source": [
    "\n",
    "Finally, we test for equality of variances between sub-samples grouped by `DEATH_EVENT` outcome for all quantitative features, and then proceed to do the appropiate difference in means statistical tests, as this can give us an indication of which features are significantly associated with the target variable.\n",
    "\n",
    "\n",
    "**Details of the test:**\n",
    "\n",
    "For all quantitative features $X$:\n",
    "\n",
    "$H_0: \\mathbb{E}[X \\mid DeathEvent=0] = \\mathbb{E}[X \\mid DeathEvent=1]$\n",
    "\n",
    "\n",
    "$H_1: \\mathbb{E}[X \\mid DeathEvent=0] \\neq \\mathbb{E}[X \\mid DeathEvent=1]$\n"
   ]
  },
  {
   "cell_type": "code",
   "execution_count": 17,
   "metadata": {},
   "outputs": [
    {
     "name": "stdout",
     "output_type": "stream",
     "text": [
      "Hypothesis test for smoking:\n",
      "-----------------------\n",
      "Equality of variances test:\n",
      "F_stat: 7.311 p_value: 0.007\n",
      "\n",
      "Difference in means test:\n",
      "t_stat: -4.186 p_value: 0.000\n",
      "\n",
      "\n",
      "Hypothesis test for smoking:\n",
      "-----------------------\n",
      "Equality of variances test:\n",
      "F_stat: 3.241 p_value: 0.073\n",
      "\n",
      "Difference in means test:\n",
      "t_stat: -1.083 p_value: 0.280\n",
      "\n",
      "\n",
      "Hypothesis test for smoking:\n",
      "-----------------------\n",
      "Equality of variances test:\n",
      "F_stat: 4.379 p_value: 0.037\n",
      "\n",
      "Difference in means test:\n",
      "t_stat: 4.567 p_value: 0.000\n",
      "\n",
      "\n",
      "Hypothesis test for smoking:\n",
      "-----------------------\n",
      "Equality of variances test:\n",
      "F_stat: 0.969 p_value: 0.326\n",
      "\n",
      "Difference in means test:\n",
      "t_stat: 0.848 p_value: 0.397\n",
      "\n",
      "\n",
      "Hypothesis test for smoking:\n",
      "-----------------------\n",
      "Equality of variances test:\n",
      "F_stat: 24.231 p_value: 0.000\n",
      "\n",
      "Difference in means test:\n",
      "t_stat: -4.153 p_value: 0.000\n",
      "\n",
      "\n",
      "Hypothesis test for smoking:\n",
      "-----------------------\n",
      "Equality of variances test:\n",
      "F_stat: 5.091 p_value: 0.025\n",
      "\n",
      "Difference in means test:\n",
      "t_stat: 3.165 p_value: 0.002\n",
      "\n",
      "\n",
      "Hypothesis test for smoking:\n",
      "-----------------------\n",
      "Equality of variances test:\n",
      "F_stat: 7.286 p_value: 0.007\n",
      "\n",
      "Difference in means test:\n",
      "t_stat: 11.006 p_value: 0.000\n",
      "\n",
      "\n"
     ]
    }
   ],
   "source": [
    "\n",
    "# Testing for equality of variances\n",
    "for feat in quant_feats.columns:\n",
    "    print('Hypothesis test for {}:'.format(var))\n",
    "    print('-----------------------')\n",
    "    sample_a = data.loc[data['DEATH_EVENT']==0, feat]\n",
    "    sample_b = data.loc[data['DEATH_EVENT']==1, feat]\n",
    "    \n",
    "    stat, p_value = levene(sample_a, sample_b, center='mean')\n",
    "    \n",
    "    # Reporting hypothesis test results\n",
    "    print('Equality of variances test:')\n",
    "    print('F_stat: %0.3f p_value: %0.3f' % (stat, p_value))\n",
    "    print('')\n",
    "    \n",
    "    if p_value<0.05:\n",
    "        stat, p_value = ttest_ind(sample_a, sample_b, equal_var=False)\n",
    "        print('Difference in means test:')\n",
    "        print('t_stat: %0.3f p_value: %0.3f' % (stat, p_value))\n",
    "        \n",
    "    else:\n",
    "        stat, p_value =  ttest_ind(sample_a, sample_b, equal_var=True)\n",
    "        print('Difference in means test:')\n",
    "        print('t_stat: %0.3f p_value: %0.3f' % (stat, p_value))\n",
    "    print('')\n",
    "    print('')\n"
   ]
  },
  {
   "cell_type": "markdown",
   "metadata": {},
   "source": [
    "\n",
    "#### **NOTES FROM (3.7)**\n",
    "\n",
    "\n",
    "* Older individuals appear to be associated with fatal heart failure (statistically significant to 1% level)\n",
    "\n",
    "* Individuals with a lower ejection fraction appear to be associated with fatal heart failure (statistically significant to 1% level)\n",
    "\n",
    "* Individuals with frequent medical check-ups appear to be associated with fatal heart failure (statistically significant to 1% level)\n",
    "\n",
    "* Individuals with high levels of serum creatinine appear to be associated with fatal heart failure (statistically significant to 1% level)\n",
    "\n",
    "* Individuals with low levels of serum sodium appear to be associated with fatal heart failure (statistically significant to 1% level)\n",
    "\n",
    "* `creatinine_phosphokinase` and `platelets` don't appear to have statistically significant associations with heart failure fatality\n",
    "\n"
   ]
  },
  {
   "cell_type": "markdown",
   "metadata": {},
   "source": [
    "## 4 - Data cleaning and preprocessing\n",
    "\n",
    ">[Note on cleaning and preprocessing:](#Note-on-cleaning-and-preprocessing:)\n",
    ">\n",
    ">[4.1 - Transforming skewed features](#4.1---Transforming-skewed-features)"
   ]
  },
  {
   "cell_type": "markdown",
   "metadata": {},
   "source": [
    "\n",
    "### Note on cleaning and preprocessing:\n"
   ]
  },
  {
   "cell_type": "markdown",
   "metadata": {},
   "source": [
    "After through inspection in [Section 3](#3---Data-retrieval-and-exploratory-analysis), it is evident that the quality of data is really good and very little (or no) preprocessing is needed. Below is a list of the cleaning/preprocessing steps that I noticed have already been carried out on the dataset:\n",
    "\n",
    "* Dummy encoding for the following variables: `anaemia`, `diabetes`, `high_blood_pressure`,  `sex`, `smoking`, `DEATH_EVENT`\n",
    "\n",
    "* Mean imputation for the following variables: `age`, `platelets`\n",
    "\n",
    "* No missing values for any variable (corrected with aforementioned imputation and possibly record removal)\n",
    "\n",
    "\n",
    "Only two additional preprocessing steps will be carried out:\n",
    "\n",
    "1. As noted in [Section 3.4](#NOTES-FROM-(3.4)), the distribution of features is significantly skewed. In order to improve modelling, these will be log-transformed to reduce the effect of outliers on model parameter estimation.\n",
    "\n",
    "2. Feature data might be normalized or standardized for some machine learning algorithms to improve performance. This step will be built into the model pipelines in [Section 5.2](#5.2---Pipeline-construction)\n"
   ]
  },
  {
   "cell_type": "markdown",
   "metadata": {},
   "source": [
    "## 5 - Inference Modelling\n",
    "\n",
    "\n",
    ">[5.1 - GLM modelling](#5.1---GLM-modelling:-Logistic-Regression) \n"
   ]
  },
  {
   "cell_type": "markdown",
   "metadata": {},
   "source": [
    "\n",
    "### 5.1 - GLM Modelling: Logistic Regression\n"
   ]
  },
  {
   "cell_type": "code",
   "execution_count": 20,
   "metadata": {},
   "outputs": [
    {
     "data": {
      "text/html": [
       "<table class=\"simpletable\">\n",
       "<caption>Generalized Linear Model Regression Results</caption>\n",
       "<tr>\n",
       "  <th>Dep. Variable:</th>      <td>DEATH_EVENT</td>   <th>  No. Observations:  </th>  <td>   299</td> \n",
       "</tr>\n",
       "<tr>\n",
       "  <th>Model:</th>                  <td>GLM</td>       <th>  Df Residuals:      </th>  <td>   286</td> \n",
       "</tr>\n",
       "<tr>\n",
       "  <th>Model Family:</th>        <td>Binomial</td>     <th>  Df Model:          </th>  <td>    12</td> \n",
       "</tr>\n",
       "<tr>\n",
       "  <th>Link Function:</th>         <td>logit</td>      <th>  Scale:             </th> <td>  1.0000</td>\n",
       "</tr>\n",
       "<tr>\n",
       "  <th>Method:</th>                <td>IRLS</td>       <th>  Log-Likelihood:    </th> <td> -109.78</td>\n",
       "</tr>\n",
       "<tr>\n",
       "  <th>Date:</th>            <td>Sun, 03 Oct 2021</td> <th>  Deviance:          </th> <td>  219.55</td>\n",
       "</tr>\n",
       "<tr>\n",
       "  <th>Time:</th>                <td>23:53:24</td>     <th>  Pearson chi2:      </th>  <td>  259.</td> \n",
       "</tr>\n",
       "<tr>\n",
       "  <th>No. Iterations:</th>          <td>6</td>        <th>                     </th>     <td> </td>   \n",
       "</tr>\n",
       "<tr>\n",
       "  <th>Covariance Type:</th>     <td>nonrobust</td>    <th>                     </th>     <td> </td>   \n",
       "</tr>\n",
       "</table>\n",
       "<table class=\"simpletable\">\n",
       "<tr>\n",
       "              <td></td>                <th>coef</th>     <th>std err</th>      <th>z</th>      <th>P>|z|</th>  <th>[0.025</th>    <th>0.975]</th>  \n",
       "</tr>\n",
       "<tr>\n",
       "  <th>Intercept</th>                <td>   10.1849</td> <td>    5.657</td> <td>    1.801</td> <td> 0.072</td> <td>   -0.902</td> <td>   21.272</td>\n",
       "</tr>\n",
       "<tr>\n",
       "  <th>age</th>                      <td>    0.0474</td> <td>    0.016</td> <td>    3.001</td> <td> 0.003</td> <td>    0.016</td> <td>    0.078</td>\n",
       "</tr>\n",
       "<tr>\n",
       "  <th>anaemia</th>                  <td>   -0.0075</td> <td>    0.360</td> <td>   -0.021</td> <td> 0.983</td> <td>   -0.714</td> <td>    0.699</td>\n",
       "</tr>\n",
       "<tr>\n",
       "  <th>creatinine_phosphokinase</th> <td>    0.0002</td> <td>    0.000</td> <td>    1.249</td> <td> 0.212</td> <td>   -0.000</td> <td>    0.001</td>\n",
       "</tr>\n",
       "<tr>\n",
       "  <th>diabetes</th>                 <td>    0.1451</td> <td>    0.351</td> <td>    0.413</td> <td> 0.679</td> <td>   -0.543</td> <td>    0.833</td>\n",
       "</tr>\n",
       "<tr>\n",
       "  <th>ejection_fraction</th>        <td>   -0.0767</td> <td>    0.016</td> <td>   -4.695</td> <td> 0.000</td> <td>   -0.109</td> <td>   -0.045</td>\n",
       "</tr>\n",
       "<tr>\n",
       "  <th>high_blood_pressure</th>      <td>   -0.1027</td> <td>    0.359</td> <td>   -0.286</td> <td> 0.775</td> <td>   -0.806</td> <td>    0.600</td>\n",
       "</tr>\n",
       "<tr>\n",
       "  <th>platelets</th>                <td>  -1.2e-06</td> <td> 1.89e-06</td> <td>   -0.635</td> <td> 0.525</td> <td> -4.9e-06</td> <td>  2.5e-06</td>\n",
       "</tr>\n",
       "<tr>\n",
       "  <th>serum_creatinine</th>         <td>    0.6661</td> <td>    0.181</td> <td>    3.670</td> <td> 0.000</td> <td>    0.310</td> <td>    1.022</td>\n",
       "</tr>\n",
       "<tr>\n",
       "  <th>serum_sodium</th>             <td>   -0.0670</td> <td>    0.040</td> <td>   -1.686</td> <td> 0.092</td> <td>   -0.145</td> <td>    0.011</td>\n",
       "</tr>\n",
       "<tr>\n",
       "  <th>sex</th>                      <td>   -0.5337</td> <td>    0.414</td> <td>   -1.289</td> <td> 0.197</td> <td>   -1.345</td> <td>    0.278</td>\n",
       "</tr>\n",
       "<tr>\n",
       "  <th>smoking</th>                  <td>   -0.0135</td> <td>    0.413</td> <td>   -0.033</td> <td> 0.974</td> <td>   -0.822</td> <td>    0.795</td>\n",
       "</tr>\n",
       "<tr>\n",
       "  <th>time</th>                     <td>   -0.0210</td> <td>    0.003</td> <td>   -6.981</td> <td> 0.000</td> <td>   -0.027</td> <td>   -0.015</td>\n",
       "</tr>\n",
       "</table>"
      ],
      "text/plain": [
       "<class 'statsmodels.iolib.summary.Summary'>\n",
       "\"\"\"\n",
       "                 Generalized Linear Model Regression Results                  \n",
       "==============================================================================\n",
       "Dep. Variable:            DEATH_EVENT   No. Observations:                  299\n",
       "Model:                            GLM   Df Residuals:                      286\n",
       "Model Family:                Binomial   Df Model:                           12\n",
       "Link Function:                  logit   Scale:                          1.0000\n",
       "Method:                          IRLS   Log-Likelihood:                -109.78\n",
       "Date:                Sun, 03 Oct 2021   Deviance:                       219.55\n",
       "Time:                        23:53:24   Pearson chi2:                     259.\n",
       "No. Iterations:                     6                                         \n",
       "Covariance Type:            nonrobust                                         \n",
       "============================================================================================\n",
       "                               coef    std err          z      P>|z|      [0.025      0.975]\n",
       "--------------------------------------------------------------------------------------------\n",
       "Intercept                   10.1849      5.657      1.801      0.072      -0.902      21.272\n",
       "age                          0.0474      0.016      3.001      0.003       0.016       0.078\n",
       "anaemia                     -0.0075      0.360     -0.021      0.983      -0.714       0.699\n",
       "creatinine_phosphokinase     0.0002      0.000      1.249      0.212      -0.000       0.001\n",
       "diabetes                     0.1451      0.351      0.413      0.679      -0.543       0.833\n",
       "ejection_fraction           -0.0767      0.016     -4.695      0.000      -0.109      -0.045\n",
       "high_blood_pressure         -0.1027      0.359     -0.286      0.775      -0.806       0.600\n",
       "platelets                  -1.2e-06   1.89e-06     -0.635      0.525    -4.9e-06     2.5e-06\n",
       "serum_creatinine             0.6661      0.181      3.670      0.000       0.310       1.022\n",
       "serum_sodium                -0.0670      0.040     -1.686      0.092      -0.145       0.011\n",
       "sex                         -0.5337      0.414     -1.289      0.197      -1.345       0.278\n",
       "smoking                     -0.0135      0.413     -0.033      0.974      -0.822       0.795\n",
       "time                        -0.0210      0.003     -6.981      0.000      -0.027      -0.015\n",
       "============================================================================================\n",
       "\"\"\""
      ]
     },
     "execution_count": 20,
     "metadata": {},
     "output_type": "execute_result"
    }
   ],
   "source": [
    "# Fitting logisitc regression GLM\n",
    "glm_logreg = smf.glm(\n",
    "    \"\"\"DEATH_EVENT ~ age + anaemia + creatinine_phosphokinase +\n",
    "                     diabetes + ejection_fraction + high_blood_pressure + \n",
    "                     platelets + serum_creatinine + serum_sodium + \n",
    "                     sex + smoking + time\n",
    "    \"\"\",\n",
    "    data=data,\n",
    "    family=sm.families.Binomial(),\n",
    ")\n",
    "resid = glm_logreg.fit()\n",
    "resid.summary()"
   ]
  },
  {
   "cell_type": "markdown",
   "metadata": {},
   "source": [
    "## 6 - Supervised Learning Modelling \n",
    "\n",
    "\n",
    ">[5.1 - Modelling approach](#5.1---Modelling-approach)\n",
    ">\n",
    ">[5.2 - Defining metrics, feature matrix, and target vector](#5.2---Defining-metrics,-feature-matrix,-and-target-vector)\n",
    ">\n",
    ">[5.3 - Generic preprocessing](#5.2---Pipeline-construction)\n",
    ">\n",
    ">[5.4 - Nearest Neighbors modelling](#5.2---Pipeline-construction)\n",
    ">\n",
    ">[5.5 - SVM modelling](#5.2---Pipeline-construction)\n",
    ">\n",
    ">[5.6 - Logistic Regression modelling](#5.2---Pipeline-construction)\n",
    ">\n",
    ">[5.7 - Naïve Bayes modelling](#5.2---Pipeline-construction)\n",
    ">\n",
    ">[5.8 - Random Forest modelling](#5.2---Pipeline-construction)\n",
    ">\n",
    ">[5.9 - Initial model comparison](#5.3---Initial-model-comparison) - [(Notes)](#NOTES-FROM-(5.3))\n",
    ">\n",
    ">[5.10 - Hyperparameter tuning](#5.4---Hyperparameter-tuning) - [(Notes)](#NOTES-FROM-(5.4))\n",
    ">\n",
    ">[5.11 - Final model selection,  validation, and interpretation](#5.5---Final-model-selection,-validation,-and-interpretation) - [(Notes)](#NOTES-FROM-(5.5))\n"
   ]
  },
  {
   "cell_type": "markdown",
   "metadata": {},
   "source": [
    "\n",
    "### 5.2 - Defining metrics, feature matrix, and target vector\n",
    "\n",
    "Given that the target variable in this project (`DEATH_EVENT`) is qualitative, the statistical situation that we are trying to model becomes a classification problem. Hence, we will use accuracy score as the main evaluation metric for different models tried out in this project.\n",
    "\n",
    "Below, we define the feature matrix and target vector to be used in our modelling according to ML convention. Additionally, we split up the data into training and testing samples to be used further on in the modelling stage.\n"
   ]
  },
  {
   "cell_type": "code",
   "execution_count": null,
   "metadata": {},
   "outputs": [],
   "source": [
    "\n",
    "# Defining feature matrix\n",
    "X = data.drop(columns='DEATH_EVENT')\n",
    "\n",
    "# Defining target vector\n",
    "y = data['DEATH_EVENT']\n",
    "\n",
    "# Splitting into training and test samples\n",
    "X_train, X_test, y_train, y_test = train_test_split(X,y, test_size=0.3, random_state=1)\n"
   ]
  },
  {
   "cell_type": "markdown",
   "metadata": {},
   "source": [
    "### 5.3 - Generic preprocessing"
   ]
  },
  {
   "cell_type": "code",
   "execution_count": null,
   "metadata": {},
   "outputs": [],
   "source": [
    "# Creating preprocessor for skewed features\n",
    "skewed_feats = ['serum_creatinine', 'platelets', 'creatinine_phosphokinase']\n",
    "log_transformer = ColumnTransformer([(\"log_transform\", FunctionTransformer(np.log1p), skewed_feats)], \n",
    "                                    remainder=\"drop\") "
   ]
  },
  {
   "cell_type": "markdown",
   "metadata": {},
   "source": [
    "### 5.4 - Nearest Neighbors modelling"
   ]
  },
  {
   "cell_type": "code",
   "execution_count": null,
   "metadata": {},
   "outputs": [],
   "source": [
    "knn_preprocessing_pipe = ColumnTransformer()"
   ]
  },
  {
   "cell_type": "code",
   "execution_count": null,
   "metadata": {},
   "outputs": [],
   "source": [
    "knn_pipeline = Pipeline([('preprocessing', knn_preprocessing_pipe),\n",
    "                         ('model', KNeighborsClassifier())])"
   ]
  },
  {
   "cell_type": "markdown",
   "metadata": {},
   "source": [
    "### 5.5 - SVM modelling"
   ]
  },
  {
   "cell_type": "code",
   "execution_count": null,
   "metadata": {},
   "outputs": [],
   "source": [
    "svm_preprocessing_pipe = ColumnTransformer()"
   ]
  },
  {
   "cell_type": "code",
   "execution_count": null,
   "metadata": {},
   "outputs": [],
   "source": [
    "svm_pipeline = Pipeline([('preprocessing', svm_preprocessing_pipe),\n",
    "                         ('model', SVC())])"
   ]
  },
  {
   "cell_type": "markdown",
   "metadata": {},
   "source": [
    "### 5.6 - Logistic Regression modelling"
   ]
  },
  {
   "cell_type": "code",
   "execution_count": null,
   "metadata": {},
   "outputs": [],
   "source": [
    "logreg_preprocessing_pipe = ColumnTransformer()"
   ]
  },
  {
   "cell_type": "code",
   "execution_count": null,
   "metadata": {},
   "outputs": [],
   "source": [
    "logreg_pipeline = Pipeline([('preprocessing', logreg_preprocessing_pipe),\n",
    "                            ('model', LogisticRegression())])"
   ]
  },
  {
   "cell_type": "markdown",
   "metadata": {},
   "source": [
    "### 5.8 - Random Forest modelling"
   ]
  },
  {
   "cell_type": "code",
   "execution_count": null,
   "metadata": {},
   "outputs": [],
   "source": [
    "rf_preprocessing_pipe = ColumnTransformer()"
   ]
  },
  {
   "cell_type": "code",
   "execution_count": null,
   "metadata": {},
   "outputs": [],
   "source": [
    "rf_pipeline = Pipeline([('preprocessing',rf_preprocessing_pipe),\n",
    "                        ('model', RandomForestClassifier())])"
   ]
  },
  {
   "cell_type": "markdown",
   "metadata": {},
   "source": [
    "\n",
    "### 5.4 - Pipeline construction\n",
    "\n",
    "The following classification models will be tested and tuned:\n",
    "\n",
    "- K Nearest Neighbours classifier\n",
    "- Support Vector Machine\n",
    "- Penalized Logistic regression\n",
    "- Naïve Bayes classifier\n",
    "- Random forest\n",
    "\n",
    "For models that utilize distance, such as Support Vector Machines or K-Nearest Neighbours, normalizing feature data before fitting improves performance drastically. Similarly, for models such as Logistic Regression, standardizing and centering data has a similar effect. Thus we incorporate these steps through a Pipeline object constructed below:\n"
   ]
  },
  {
   "cell_type": "code",
   "execution_count": null,
   "metadata": {},
   "outputs": [],
   "source": [
    "# Creating model pipelines\n",
    "\n",
    "models ={'SVM': Pipeline([('log',log_transformer), \n",
    "                          ('normalizer', Normalizer()), \n",
    "                          ('model', SVC())]),\n",
    "         'KNN': Pipeline([('log',log_transformer), \n",
    "                          ('normalizer', Normalizer()), \n",
    "                          ('model', KNeighborsClassifier())]),\n",
    "         'Logistic Regression': Pipeline([('log',log_transformer), \n",
    "                                          ('scaler', StandardScaler()), \n",
    "                                          ('model', LogisticRegression(solver='saga', random_state=1))]),\n",
    "         'Random Forest': Pipeline([('log',log_transformer), \n",
    "                                    ('model', RandomForestClassifier(random_state=1))])\n",
    "        }\n"
   ]
  },
  {
   "cell_type": "markdown",
   "metadata": {},
   "source": [
    "### 5.3 - Initial model comparison"
   ]
  },
  {
   "cell_type": "markdown",
   "metadata": {},
   "source": [
    "We now perform an initial evaluation of the predictive performance of each of these models on the heart failure dataset. To avoid generalizing from a simple train-test split, we use 5-fold cross validation on the training sample as it provides a more unbiased and accurate estimate of a model's performance on unseen data:\n"
   ]
  },
  {
   "cell_type": "markdown",
   "metadata": {},
   "source": [
    "\n",
    "#### **NOTES FROM (5.3)**\n",
    "\n",
    "\n",
    "* Best-performing classification model was SVM Classifier, with 83.8% accuracy\n",
    "\n",
    "* Most time-expensive model was Random Forest (20 times more than the second-longest)\n"
   ]
  },
  {
   "cell_type": "markdown",
   "metadata": {},
   "source": [
    "\n",
    "### 5.4 - Hyperparameter tuning\n"
   ]
  },
  {
   "cell_type": "markdown",
   "metadata": {},
   "source": [
    "Next, we want to see if the performance of models used changes significantly when using optimal hyperparameters. In order to asses this, we utilize grid search cross-validation on all models, fitting with the training sample. An exception is made for the Random Forest model, as it contains far more hyperparameters than other models and is far more computationally expensive as shown in [Section 5.3](#5.3---Initial-model-comparison), making grid-search substantially time-inefficient. Instead, we utilize random search cross-validation which chooses a random sample of hyperparameter combinations and finds the optimal estimator amongst those.\n",
    "\n",
    "Below, we specify the hyperparameters to be tuned for each models, as well as the range of values to try out for each:\n"
   ]
  },
  {
   "cell_type": "code",
   "execution_count": null,
   "metadata": {},
   "outputs": [],
   "source": [
    "\n",
    "# Hyperparameters for SVM classifier\n",
    "svm_params={'model__C': np.arange(1,10,1),\n",
    "           'model__gamma': [0.001, 0.002, 0.004, 0.006, 0.008, 0.01, 0.1, 1, 'scale', 'auto'] }\n",
    "\n",
    "# Hyperparameters for KNN classifier\n",
    "knn_params={'model__n_neighbors': np.arange(1,50,1),\n",
    "           'model__weights': ['uniform', 'distance'],\n",
    "           }\n",
    "\n",
    "# Hyperparameters for Random Forest classifier\n",
    "rf_params={'model__n_estimators': np.arange(10,210,10),\n",
    "           'model__max_features': ['auto', 'sqrt','log2'],\n",
    "           'model__max_depth': np.arange(1,50,1),\n",
    "           'model__min_samples_split': np.arange(2,20,1),\n",
    "           'model__min_samples_leaf': np.arange(1,10,1),\n",
    "           'model__bootstrap': [True, False]\n",
    "          }\n",
    "\n",
    "# Hyperparameters for Logistic Regression\n",
    "log_reg_params={'model__penalty': ['l1', 'l2', 'elasticnet', 'none'],\n",
    "               'model__C': np.logspace(-4, 4, 20),\n",
    "               'model__l1_ratio': np.linspace(0,1,21)}\n",
    "\n",
    "model_params_grid = {'SVM': svm_params,\n",
    "                     'KNN': knn_params,\n",
    "                     'Logistic Regression': log_reg_params,\n",
    "                     'Random Forest': rf_params}\n"
   ]
  },
  {
   "cell_type": "markdown",
   "metadata": {},
   "source": [
    "\n",
    "\n",
    "Next, hyperparameter tuning is done using the parameter grids specified. Since some combinations of hyperparameters may trigger usage or convergence warnings, we also disable these below to avoid cluttering the console output: \n",
    "\n"
   ]
  },
  {
   "cell_type": "markdown",
   "metadata": {},
   "source": [
    "#### **NOTES FROM (5.4)**\n",
    "\n",
    "\n",
    "* All models improved after hyperparameter tuning\n",
    "\n",
    "* Best-performing classification model was now Random Forest, this time with 86.2% accuracy\n"
   ]
  },
  {
   "cell_type": "markdown",
   "metadata": {},
   "source": [
    "### 5.5 - Final model selection, validation, and interpretation"
   ]
  },
  {
   "cell_type": "markdown",
   "metadata": {},
   "source": [
    "\n",
    "After hyperparameter tuning in [Section 5.4](#5.4---Hyperparameter-tuning), we concluded that the Random Forest model had the best out-of-sample predictive performance for our dataset, but to better evaluate its shortcomings further analysis is required.\n",
    "\n",
    "To do this, we now train the best optimized Random Forest estimator with the whole training sample and validate its predictions for the test sample. This ensures that the model is able to generalize with unseen data.\n"
   ]
  },
  {
   "cell_type": "code",
   "execution_count": null,
   "metadata": {},
   "outputs": [],
   "source": [
    "\n",
    "# Retrieving best estimator from model girds\n",
    "print('')\n",
    "print('Random Forest classification report:')\n",
    "print('------------------------------------')\n",
    "rf_final = model_grids['Random Forest'].best_estimator_\n",
    "\n",
    "# Fitting best estimator with complete traning sample\n",
    "rf_final.fit(X_train, y_train)\n",
    "\n",
    "# Predicting on test sample\n",
    "y_pred = rf_final.predict(X_test)\n",
    "\n",
    "# Outputing classification report for \n",
    "print(classification_report(y_test, y_pred))\n",
    "print('')\n"
   ]
  },
  {
   "cell_type": "markdown",
   "metadata": {},
   "source": [
    "\n",
    "In the console output above we can observe the classification report for the optimized Random Forest predictions on the test sample. With this, we can carry out a more complete assement of its predictive capabilities. Finally, we take a look at the importance that different factors take in the classification process of the optimized Random Forest model:\n"
   ]
  },
  {
   "cell_type": "code",
   "execution_count": null,
   "metadata": {},
   "outputs": [],
   "source": [
    "\n",
    "# Listing features in order of importance\n",
    "feature_importance = pd.DataFrame(data={'Feature': X_train.columns,\n",
    "                                        'Gini Importance': rf_final['model'].feature_importances_ \n",
    "                                       })\n",
    "\n",
    "feature_importance = round(feature_importance, 4).set_index('Feature').sort_values(by='Gini Importance', ascending=False)\n",
    "feature_importance\n"
   ]
  },
  {
   "cell_type": "markdown",
   "metadata": {},
   "source": [
    "\n",
    "#### **NOTES FROM (5.5)**\n",
    "\n",
    "\n",
    "* The accuracy score for the model's predictions is of 91%\n",
    "\n",
    "* The F-1 score of the model is lower for DEATH_EVENT=1, meaning that the model performs worse for fatal heart failure cases\n",
    "\n",
    "* The worst performance aspect of the model is recall for DEATH_EVENT=1, meaning that the model isn't as good at identifying cases where heart failure results in death, although this a harder task so it is expected.\n",
    "\n",
    "* Quantitative features turned out more important for fatality prediction than qualitative ones.\n",
    "\n",
    "* The features`time`, `ln(serum_creatinine)`, `ejection_fraction`, `serum_sodium`, and `age` were found to be the most important. All of these features had a statistically significant difference in means at a 1% level.\n",
    "\n",
    "* Out of all quantitative features, `ln(platelets)` and `ln(creatinine_phosphokinase)` were found to be the least important. These also did not have a statistically significant difference in means.\n"
   ]
  },
  {
   "cell_type": "markdown",
   "metadata": {},
   "source": [
    "## 6 - Conclusion\n"
   ]
  },
  {
   "cell_type": "markdown",
   "metadata": {},
   "source": [
    "\n",
    "Overall, we were able to successfully explore the heart failure patients dataset and derived key insights on the subject matter. First, we discovered that the five most powerful indicators of fatality likelihood were frequent check-ups, serum creatinine levels, serum sodium levels, age, and the ejection fraction of a patient. Nevertheless, we interpret frequent check-ups as a proxy for significant health issues in a patient (that may or may not be included in the dataset) that require persistent medical attention, meaning its relationship with the heart failure fatality is non-causal. \n",
    "\n",
    "As for the other factors, we found that high levels of serum creatinine, low levels of serum sodium, a low ejection fraction, and an advanced age are strong indicators of potential fatality in case of heart failure, and these relationships are corroborated by modern-day medical research. In conclusion, we would recommend patients to take necessary lifestyle steps in order to avoid the above conditions, as our analysis would predict a greater likelihood of dying given a heart failure if these are present. Finally, we would also recommend any at-risk patients to get frequent medical check-ups as there are potentially many factors that weren’t included in our dataset but could be strong indicators of fatality likelihood.\n"
   ]
  }
 ],
 "metadata": {
  "kernelspec": {
   "display_name": "Python 3",
   "language": "python",
   "name": "python3"
  },
  "language_info": {
   "codemirror_mode": {
    "name": "ipython",
    "version": 3
   },
   "file_extension": ".py",
   "mimetype": "text/x-python",
   "name": "python",
   "nbconvert_exporter": "python",
   "pygments_lexer": "ipython3",
   "version": "3.8.10"
  }
 },
 "nbformat": 4,
 "nbformat_minor": 4
}
